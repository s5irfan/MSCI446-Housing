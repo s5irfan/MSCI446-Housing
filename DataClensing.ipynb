{
 "cells": [
  {
   "cell_type": "code",
   "execution_count": 1,
   "metadata": {},
   "outputs": [
    {
     "ename": "SyntaxError",
     "evalue": "invalid syntax (<ipython-input-1-5ecbbb116e3b>, line 68)",
     "output_type": "error",
     "traceback": [
      "\u001b[1;36m  File \u001b[1;32m\"<ipython-input-1-5ecbbb116e3b>\"\u001b[1;36m, line \u001b[1;32m68\u001b[0m\n\u001b[1;33m    dardization of DataPython\u001b[0m\n\u001b[1;37m                 ^\u001b[0m\n\u001b[1;31mSyntaxError\u001b[0m\u001b[1;31m:\u001b[0m invalid syntax\n"
     ]
    }
   ],
   "source": [
    "# Required Python Machine learning Packages\n",
    "import pandas as pd\n",
    "import numpy as np\n",
    "# For preprocessing the data\n",
    "from sklearn.preprocessing import Imputer\n",
    "from sklearn import preprocessing\n",
    "# To split the dataset into train and test datasets\n",
    "from sklearn.cross_validation import train_test_split\n",
    "# To model the Gaussian Navie Bayes classifier\n",
    "from sklearn.naive_bayes import GaussianNB\n",
    "# To calculate the accuracy score of the model\n",
    "from sklearn.metrics import accuracy_score\n",
    "\n",
    "#Read file from CSV\n",
    "adult_df = pd.read_csv('si.csv')\n",
    "print(adult_df)\n",
    "\n",
    "#Check for any null value \n",
    "adult_df.isnull().sum()\n",
    "\n",
    "#Check if any value has \"?\"\n",
    "for value in ['Q1', 'Q2',\n",
    "          'Q3', 'Q4',\n",
    "          'Q5','Q6', 'Q7',\n",
    "          'Q8', 'Q9','Q10','Q11','Q12']:\n",
    "    print (value,\":\", sum(adult_df[value] == '?'))\n",
    "    \n",
    "#One-Hot-Encoding to convert discrete to numerical values\n",
    "le = preprocessing.LabelEncoder()\n",
    "#Type_cat = le.fit_transform(adult_df.Type)\n",
    "Q1_cat = le.fit_transform(adult_df.Q1)\n",
    "Q2_cat = le.fit_transform(adult_df.Q2)\n",
    "Q3_cat = le.fit_transform(adult_df.Q3)\n",
    "Q4_cat = le.fit_transform(adult_df.Q4)\n",
    "Q5_cat = le.fit_transform(adult_df.Q5)\n",
    "Q6_cat = le.fit_transform(adult_df.Q6)\n",
    "Q7_cat = le.fit_transform(adult_df.Q7)\n",
    "Q8_cat = le.fit_transform(adult_df.Q8)\n",
    "Q9_cat = le.fit_transform(adult_df.Q9)\n",
    "Q10_cat = le.fit_transform(adult_df.Q10)\n",
    "Q11_cat = le.fit_transform(adult_df.Q11)\n",
    "Q12_cat = le.fit_transform(adult_df.Q12)\n",
    "\n",
    "#initialize the encoded categorical columns\n",
    "#adult_df_rev['Type_cat'] = Type_cat\n",
    "adult_df_rev['Q1_cat'] = Q1_cat\n",
    "adult_df_rev['Q2_cat'] = Q2_cat\n",
    "adult_df_rev['Q3_cat'] = Q3_cat\n",
    "adult_df_rev['Q4_cat'] = Q4_cat\n",
    "adult_df_rev['Q5_cat'] = Q5_cat\n",
    "adult_df_rev['Q6_cat'] = Q6_cat\n",
    "adult_df_rev['Q7_cat'] = Q7_cat\n",
    "adult_df_rev['Q8_cat'] = Q8_cat\n",
    "adult_df_rev['Q9_cat'] = Q9_cat\n",
    "adult_df_rev['Q10_cat'] = Q10_cat\n",
    "adult_df_rev['Q11_cat'] = Q11_cat\n",
    "adult_df_rev['Q12_cat'] = Q12_cat\n",
    "\n",
    "\n",
    "\n",
    "\n",
    "adult_df_rev = adult_df_rev.reindex_axis(['Type', 'Q1_cat','Q2_cat',\n",
    "    'Q3_cat','Q4_cat','Q5_cat','Q6_cat','Q7_cat', 'Q8_cat','Q9_cat','Q10_cat','Q11_cat','Q12_cat'], axis= 1)\n",
    " \n",
    "adult_df_rev.head(1)\n",
    "\n",
    "\n",
    "dardization of DataPython\n",
    "\n",
    "num_features = ['age', 'workclass_cat', 'fnlwgt', 'education_cat', 'education_num',\n",
    "                'marital_cat', 'occupation_cat', 'relationship_cat', 'race_cat',\n",
    "                'sex_cat', 'capital_gain', 'capital_loss', 'hours_per_week',\n",
    "                'native_country_cat']\n",
    "\n",
    "scaled_features = {}\n",
    "for each in num_features:\n",
    "    mean, std = adult_df_rev[each].mean(), adult_df_rev[each].std()\n",
    "    scaled_features[each] = [mean, std]\n",
    "    adult_df_rev.loc[:, each] = (adult_df_rev[each] - mean)/std\n",
    "\n",
    "num_features = ['Q1_cat','Q2_cat',\n",
    "    'Q3_cat','Q4_cat','Q5_cat','Q6_cat','Q7_cat', 'Q8_cat','Q9_cat',\n",
    "                'Q10_cat','Q11_cat','Q12_cat']\n",
    "\n"
   ]
  },
  {
   "cell_type": "code",
   "execution_count": null,
   "metadata": {
    "collapsed": true
   },
   "outputs": [],
   "source": []
  },
  {
   "cell_type": "code",
   "execution_count": null,
   "metadata": {
    "collapsed": true
   },
   "outputs": [],
   "source": []
  },
  {
   "cell_type": "code",
   "execution_count": null,
   "metadata": {
    "collapsed": true
   },
   "outputs": [],
   "source": []
  }
 ],
 "metadata": {
  "anaconda-cloud": {},
  "kernelspec": {
   "display_name": "Python 3",
   "language": "python",
   "name": "python3"
  },
  "language_info": {
   "codemirror_mode": {
    "name": "ipython",
    "version": 3
   },
   "file_extension": ".py",
   "mimetype": "text/x-python",
   "name": "python",
   "nbconvert_exporter": "python",
   "pygments_lexer": "ipython3",
   "version": "3.6.1"
  }
 },
 "nbformat": 4,
 "nbformat_minor": 1
}
